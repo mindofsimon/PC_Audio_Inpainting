{
  "nbformat": 4,
  "nbformat_minor": 0,
  "metadata": {
    "colab": {
      "name": "PC-Results.ipynb",
      "provenance": [],
      "collapsed_sections": []
    },
    "kernelspec": {
      "name": "python3",
      "display_name": "Python 3"
    },
    "language_info": {
      "name": "python"
    }
  },
  "cells": [
    {
      "cell_type": "code",
      "metadata": {
        "id": "v-ydiuF1in0X"
      },
      "source": [
        "import numpy as np\n",
        "import os\n",
        "import csv\n",
        "\n",
        "m1=[]\n",
        "m2=[]\n",
        "m3=[]\n",
        "m4=[]\n",
        "\n",
        "data=\"2\"\n",
        "reconstruction=\"2\"\n",
        "metrics = np.zeros([5,4])\n",
        "i=0\n",
        "for f in sorted(os.listdir('results/')):\n",
        "  ext = os.path.splitext(f)[-1].lower()\n",
        "  if ext == \".csv\":\n",
        "    with open('results/'+f,'r') as csvfile:\n",
        "      results = csv.reader(csvfile, delimiter=',')\n",
        "      next(results)\n",
        "      for row in results:\n",
        "        m1.append(float(row[1]))\n",
        "        m2.append(float(row[2]))\n",
        "        m3.append(float(row[3]))\n",
        "        m4.append(float(row[4]))\n",
        "\n",
        "      \n",
        "      metrics[i,0]=np.mean(np.array(m1))\n",
        "      metrics[i,1]=np.mean(np.array(m2))\n",
        "      metrics[i,2]=np.mean(np.array(m3))\n",
        "      metrics[i,3]=np.mean(np.array(m4))\n",
        "      i=i+1\n",
        "      m1=[]\n",
        "      m2=[]\n",
        "      m3=[]\n",
        "      m4=[]      \n",
        "        \n",
        "with open('deep_prior_mean_results_'+str(data)+'_'+str(reconstruction)+'_t.csv', mode='w') as model_based: # OPENING FILE (TILL THE END)\n",
        "  model_based_writer = csv.writer(model_based, delimiter=',', quotechar='\"', quoting=csv.QUOTE_MINIMAL)\n",
        "  model_based_writer.writerow(['SNR', 'PSNR', 'SSIM', 'PESQ'])\n",
        "  model_based_writer.writerow([metrics[0,0], metrics[0,1], metrics[0,2], metrics[0,3]])\n",
        "  model_based_writer.writerow([metrics[1,0], metrics[1,1], metrics[1,2], metrics[1,3]])\n",
        "  model_based_writer.writerow([metrics[2,0], metrics[2,1], metrics[2,2], metrics[2,3]])\n",
        "  model_based_writer.writerow([metrics[3,0], metrics[3,1], metrics[3,2], metrics[3,3]])\n",
        "  model_based_writer.writerow([metrics[4,0], metrics[4,1], metrics[4,2], metrics[4,3]])\n",
        "    "
      ],
      "execution_count": null,
      "outputs": []
    },
    {
      "cell_type": "code",
      "metadata": {
        "id": "BGw3ILxWFwng",
        "colab": {
          "base_uri": "https://localhost:8080/",
          "height": 231
        },
        "outputId": "86447559-b5f5-4715-a14d-bc4b4c000cfc"
      },
      "source": [
        "with open('deep_prior_mean_results_2_2_f.csv','r') as csvfile:\n",
        "      results = csv.reader(csvfile, delimiter=',')\n",
        "      next(results)\n",
        "\n",
        "      for row in results:\n",
        "        m1.append(float(row[0]))\n",
        "        m2.append(float(row[1]))\n",
        "        m3.append(float(row[2]))\n",
        "        m4.append(float(row[3]))\n",
        "\n",
        "      \n",
        "      metrics[0,0]=np.mean(np.array(m1))\n",
        "      metrics[0,1]=np.mean(np.array(m2))\n",
        "      metrics[0,2]=np.mean(np.array(m3))\n",
        "      metrics[0,3]=np.mean(np.array(m4))\n",
        "      m1=[]\n",
        "      m2=[]\n",
        "      m3=[]\n",
        "      m4=[]\n",
        "\n",
        "with open('model_based_t.csv', mode='w') as model_based: # OPENING FILE (TILL THE END)\n",
        "  model_based_writer = csv.writer(model_based, delimiter=',', quotechar='\"', quoting=csv.QUOTE_MINIMAL)\n",
        "  model_based_writer.writerow(['SNR', 'PSNR', 'SSIM', 'PESQ'])\n",
        "  model_based_writer.writerow([metrics[0,0], metrics[0,1], metrics[0,2], metrics[0,3]])"
      ],
      "execution_count": null,
      "outputs": [
        {
          "output_type": "error",
          "ename": "FileNotFoundError",
          "evalue": "ignored",
          "traceback": [
            "\u001b[0;31m---------------------------------------------------------------------------\u001b[0m",
            "\u001b[0;31mFileNotFoundError\u001b[0m                         Traceback (most recent call last)",
            "\u001b[0;32m<ipython-input-3-102758dee76b>\u001b[0m in \u001b[0;36m<module>\u001b[0;34m()\u001b[0m\n\u001b[1;32m      1\u001b[0m \u001b[0;32mimport\u001b[0m \u001b[0mcsv\u001b[0m\u001b[0;34m\u001b[0m\u001b[0;34m\u001b[0m\u001b[0m\n\u001b[0;32m----> 2\u001b[0;31m \u001b[0;32mwith\u001b[0m \u001b[0mopen\u001b[0m\u001b[0;34m(\u001b[0m\u001b[0;34m'deep_prior_mean_results_2_2_f.csv'\u001b[0m\u001b[0;34m,\u001b[0m\u001b[0;34m'r'\u001b[0m\u001b[0;34m)\u001b[0m \u001b[0;32mas\u001b[0m \u001b[0mcsvfile\u001b[0m\u001b[0;34m:\u001b[0m\u001b[0;34m\u001b[0m\u001b[0;34m\u001b[0m\u001b[0m\n\u001b[0m\u001b[1;32m      3\u001b[0m       \u001b[0mresults\u001b[0m \u001b[0;34m=\u001b[0m \u001b[0mcsv\u001b[0m\u001b[0;34m.\u001b[0m\u001b[0mreader\u001b[0m\u001b[0;34m(\u001b[0m\u001b[0mcsvfile\u001b[0m\u001b[0;34m,\u001b[0m \u001b[0mdelimiter\u001b[0m\u001b[0;34m=\u001b[0m\u001b[0;34m','\u001b[0m\u001b[0;34m)\u001b[0m\u001b[0;34m\u001b[0m\u001b[0;34m\u001b[0m\u001b[0m\n\u001b[1;32m      4\u001b[0m       \u001b[0mnext\u001b[0m\u001b[0;34m(\u001b[0m\u001b[0mresults\u001b[0m\u001b[0;34m)\u001b[0m\u001b[0;34m\u001b[0m\u001b[0;34m\u001b[0m\u001b[0m\n\u001b[1;32m      5\u001b[0m \u001b[0;34m\u001b[0m\u001b[0m\n",
            "\u001b[0;31mFileNotFoundError\u001b[0m: [Errno 2] No such file or directory: 'deep_prior_mean_results_2_2_f.csv'"
          ]
        }
      ]
    },
    {
      "cell_type": "code",
      "metadata": {
        "colab": {
          "base_uri": "https://localhost:8080/",
          "height": 295
        },
        "id": "qLouN_esoQgq",
        "outputId": "1b91a441-e125-478d-a01b-78f2a52bea07"
      },
      "source": [
        "import csv\n",
        "import matplotlib.pyplot as plt\n",
        "index = 3 #PSNR\n",
        "\n",
        "with open('model_based_mean_results_1_1_t.csv','r') as csvfile:\n",
        "  plots = csv.reader(csvfile, delimiter=',')\n",
        "  x=[1,2,3,4,5]\n",
        "  y_1=[]\n",
        "  for row in plots:\n",
        "    y_1.append(row[index])\n",
        "\n",
        "  y_1=(y_1[1:])\n",
        "  y_1[0]=float(y_1[0])\n",
        "  y_1[1]=float(y_1[1])\n",
        "  y_1[2]=float(y_1[2])\n",
        "  y_1[3]=float(y_1[3])\n",
        "  y_1[4]=float(y_1[4])\n",
        "\n",
        "with open('pix_2_pix_mean_results_1_1_t.csv','r') as csvfile:\n",
        "  plots = csv.reader(csvfile, delimiter=',')\n",
        "  x=[1,2,3,4,5]\n",
        "  y_2=[]\n",
        "  for row in plots:\n",
        "    y_2.append(row[index])\n",
        "\n",
        "  y_2=(y_2[1:])\n",
        "  y_2[0]=float(y_2[0])\n",
        "  y_2[1]=float(y_2[1])\n",
        "  y_2[2]=float(y_2[2])\n",
        "  y_2[3]=float(y_2[3])\n",
        "  y_2[4]=float(y_2[4])\n",
        "\n",
        "with open('deep_prior_mean_results_1_1_t.csv','r') as csvfile:\n",
        "  plots = csv.reader(csvfile, delimiter=',')\n",
        "  x=[1,2,3,4,5]\n",
        "  y_3=[]\n",
        "  for row in plots:\n",
        "    y_3.append(row[index])\n",
        "\n",
        "  y_3=(y_3[1:])\n",
        "  y_3[0]=float(y_3[0])\n",
        "  y_3[1]=float(y_3[1])\n",
        "  y_3[2]=float(y_3[2])\n",
        "  y_3[3]=float(y_3[3])\n",
        "  y_3[4]=float(y_3[4])\n",
        "\n",
        "\n",
        "plt.plot(x,y_1, label='model based', color='green')\n",
        "plt.plot(x,y_2, label='pix 2 pix', color='red')\n",
        "plt.plot(x,y_3, label='deep prior', color='blue')\n",
        "plt.xlabel('Iteration')\n",
        "plt.ylabel('PESQ')\n",
        "plt.title('PESQ per Iteration')\n",
        "plt.legend()\n",
        "\n",
        "plt.savefig('PESQ_mean_time')\n",
        "\n",
        "plt.show()"
      ],
      "execution_count": null,
      "outputs": [
        {
          "output_type": "display_data",
          "data": {
            "image/png": "[encoded data removed]",
            "text/plain": [
              "<Figure size 432x288 with 1 Axes>"
            ]
          },
          "metadata": {
            "tags": [],
            "needs_background": "light"
          }
        }
      ]
    }
  ]
}