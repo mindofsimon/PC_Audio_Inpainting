{
  "nbformat": 4,
  "nbformat_minor": 0,
  "metadata": {
    "colab": {
      "name": "PC - Results.ipynb",
      "provenance": [],
      "collapsed_sections": []
    },
    "kernelspec": {
      "name": "python3",
      "display_name": "Python 3"
    },
    "language_info": {
      "name": "python"
    }
  },
  "cells": [
    {
      "cell_type": "code",
      "metadata": {
        "id": "v-ydiuF1in0X"
      },
      "source": [
        "import numpy as np\n",
        "import os\n",
        "import csv\n",
        "\n",
        "m1=[]\n",
        "m2=[]\n",
        "m3=[]\n",
        "m4=[]\n",
        "\n",
        "data=\"1\"\n",
        "reconstruction=\"1\"\n",
        "metrics = np.zeros([5,4])\n",
        "i=0\n",
        "for f in sorted(os.listdir('results/')):\n",
        "  ext = os.path.splitext(f)[-1].lower()\n",
        "  if ext == \".csv\":\n",
        "    with open('results/'+f,'r') as csvfile:\n",
        "      results = csv.reader(csvfile, delimiter=',')\n",
        "      next(results)\n",
        "      for row in results:\n",
        "        m1.append(float(row[1]))\n",
        "        m2.append(float(row[2]))\n",
        "        m3.append(float(row[3]))\n",
        "        m4.append(float(row[4]))\n",
        "\n",
        "      \n",
        "      print(m3)\n",
        "      metrics[i,0]=np.mean(np.array(m1))\n",
        "      metrics[i,1]=np.mean(np.array(m2))\n",
        "      metrics[i,2]=np.mean(np.array(m3))\n",
        "      metrics[i,3]=np.mean(np.array(m4))\n",
        "      i=i+1\n",
        "      m1=[]\n",
        "      m2=[]\n",
        "      m3=[]\n",
        "      m4=[]      \n",
        "        \n",
        "with open('deep_prior_mean_results_'+str(data)+'_'+str(reconstruction)+'.csv', mode='w') as deep_prior: # OPENING FILE (TILL THE END)\n",
        "  deep_prior_writer = csv.writer(deep_prior, delimiter=',', quotechar='\"', quoting=csv.QUOTE_MINIMAL)\n",
        "  deep_prior_writer.writerow(['SNR', 'PSNR', 'SSIM', 'PESQ'])\n",
        "  deep_prior_writer.writerow([metrics[0,0], metrics[0,1], metrics[0,2], metrics[0,3]])\n",
        "  deep_prior_writer.writerow([metrics[1,0], metrics[1,1], metrics[1,2], metrics[1,3]])\n",
        "  deep_prior_writer.writerow([metrics[2,0], metrics[2,1], metrics[2,2], metrics[2,3]])\n",
        "  deep_prior_writer.writerow([metrics[3,0], metrics[3,1], metrics[3,2], metrics[3,3]])\n",
        "  deep_prior_writer.writerow([metrics[4,0], metrics[4,1], metrics[4,2], metrics[4,3]])\n",
        "    "
      ],
      "execution_count": null,
      "outputs": []
    },
    {
      "cell_type": "code",
      "metadata": {
        "colab": {
          "base_uri": "https://localhost:8080/",
          "height": 310
        },
        "id": "qLouN_esoQgq",
        "outputId": "234d7b61-fcf0-49c4-e5ba-778f4664fea9"
      },
      "source": [
        "import matplotlib.pyplot as plt\n",
        "\n",
        "with open('deep_prior_mean_results_1_1.csv','r') as csvfile:\n",
        "  plots = csv.reader(csvfile, delimiter=',')\n",
        "  x=[1,2,3,4,5]\n",
        "  y=[]\n",
        "  for row in plots:\n",
        "    y.append(row[3])\n",
        "\n",
        "  y=(y[1:])\n",
        "  y[0]=float(y[0])\n",
        "  y[1]=float(y[1])\n",
        "  y[2]=float(y[2])\n",
        "  y[3]=float(y[3])\n",
        "  y[4]=float(y[4])\n",
        "\n",
        "plt.plot(x,y, label='Loaded from file!')\n",
        "plt.xlabel('x')\n",
        "plt.ylabel('y')\n",
        "plt.title('Interesting Graph\\nCheck it out')\n",
        "plt.legend()\n",
        "\n",
        "\n",
        "\n",
        "plt.show()"
      ],
      "execution_count": 56,
      "outputs": [
        {
          "output_type": "display_data",
          "data": {
            "image/png": "[encoded data removed]",
            "text/plain": [
              "<Figure size 432x288 with 1 Axes>"
            ]
          },
          "metadata": {
            "tags": [],
            "needs_background": "light"
          }
        }
      ]
    }
  ]
}